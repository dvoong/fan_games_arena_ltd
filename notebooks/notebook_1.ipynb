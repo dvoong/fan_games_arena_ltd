{
 "cells": [
  {
   "cell_type": "code",
   "execution_count": 1,
   "metadata": {
    "collapsed": true
   },
   "outputs": [],
   "source": [
    "from database import get_connection"
   ]
  },
  {
   "cell_type": "code",
   "execution_count": 2,
   "metadata": {
    "collapsed": true
   },
   "outputs": [],
   "source": [
    "from sql import get_table_names, query_database"
   ]
  },
  {
   "cell_type": "markdown",
   "metadata": {},
   "source": [
    "## users"
   ]
  },
  {
   "cell_type": "code",
   "execution_count": 3,
   "metadata": {},
   "outputs": [
    {
     "name": "stdout",
     "output_type": "stream",
     "text": [
      "53 tables\n"
     ]
    },
    {
     "data": {
      "text/html": [
       "<div>\n",
       "<style scoped>\n",
       "    .dataframe tbody tr th:only-of-type {\n",
       "        vertical-align: middle;\n",
       "    }\n",
       "\n",
       "    .dataframe tbody tr th {\n",
       "        vertical-align: top;\n",
       "    }\n",
       "\n",
       "    .dataframe thead th {\n",
       "        text-align: right;\n",
       "    }\n",
       "</style>\n",
       "<table border=\"1\" class=\"dataframe\">\n",
       "  <thead>\n",
       "    <tr style=\"text-align: right;\">\n",
       "      <th></th>\n",
       "      <th>name</th>\n",
       "    </tr>\n",
       "  </thead>\n",
       "  <tbody>\n",
       "    <tr>\n",
       "      <th>35</th>\n",
       "      <td>AspNetRoles</td>\n",
       "    </tr>\n",
       "    <tr>\n",
       "      <th>43</th>\n",
       "      <td>AspNetUserClaims</td>\n",
       "    </tr>\n",
       "    <tr>\n",
       "      <th>44</th>\n",
       "      <td>AspNetUserLogins</td>\n",
       "    </tr>\n",
       "    <tr>\n",
       "      <th>38</th>\n",
       "      <td>AspNetUserRoles</td>\n",
       "    </tr>\n",
       "    <tr>\n",
       "      <th>41</th>\n",
       "      <td>AspNetUsers</td>\n",
       "    </tr>\n",
       "  </tbody>\n",
       "</table>\n",
       "</div>"
      ],
      "text/plain": [
       "                name\n",
       "35       AspNetRoles\n",
       "43  AspNetUserClaims\n",
       "44  AspNetUserLogins\n",
       "38   AspNetUserRoles\n",
       "41       AspNetUsers"
      ]
     },
     "execution_count": 3,
     "metadata": {},
     "output_type": "execute_result"
    }
   ],
   "source": [
    "users_connection = get_connection('users')\n",
    "df_users_tables = get_table_names(users_connection)\n",
    "print('{} tables'.format(len(df_users_tables)))\n",
    "df_users_tables.head()"
   ]
  },
  {
   "cell_type": "code",
   "execution_count": 4,
   "metadata": {
    "collapsed": true
   },
   "outputs": [],
   "source": [
    "table_names = {\n",
    "    'user_devices': 'FGAUserDevices',\n",
    "    'user_preferences': 'FGAUserPreferences',\n",
    "    'user_profiles': 'FGAUserProfiles',\n",
    "    'user_settings': 'FGAUserSettings',\n",
    "    'users': 'FGAUsers',\n",
    "}"
   ]
  },
  {
   "cell_type": "code",
   "execution_count": 5,
   "metadata": {
    "collapsed": true
   },
   "outputs": [],
   "source": [
    "import pyodbc"
   ]
  },
  {
   "cell_type": "code",
   "execution_count": 6,
   "metadata": {},
   "outputs": [
    {
     "name": "stdout",
     "output_type": "stream",
     "text": [
      "('ODBC SQL type -155 is not yet supported.  column-index=9  type=-155', 'HY106')\n",
      "['__cause__', '__class__', '__context__', '__delattr__', '__dict__', '__dir__', '__doc__', '__eq__', '__format__', '__ge__', '__getattribute__', '__gt__', '__hash__', '__init__', '__init_subclass__', '__le__', '__lt__', '__module__', '__ne__', '__new__', '__reduce__', '__reduce_ex__', '__repr__', '__setattr__', '__setstate__', '__sizeof__', '__str__', '__subclasshook__', '__suppress_context__', '__traceback__', '__weakref__', 'args', 'with_traceback']\n",
      "('ODBC SQL type -155 is not yet supported.  column-index=9  type=-155', 'HY106')\n"
     ]
    }
   ],
   "source": [
    "sql = '''select top 10 * from {}'''.format(table_names['users'])\n",
    "try:\n",
    "    df = query_database(users_connection, sql)\n",
    "except pyodbc.ProgrammingError as e:\n",
    "    print(e)\n",
    "    print(dir(e))\n",
    "    print(e.args)\n",
    "# df.head()"
   ]
  },
  {
   "cell_type": "code",
   "execution_count": 14,
   "metadata": {},
   "outputs": [
    {
     "name": "stdout",
     "output_type": "stream",
     "text": [
      "cursor.description: (('Id', <class 'str'>, None, 128, 128, 0, False), ('DeviceId', <class 'str'>, None, 0, 0, 0, True), ('DeviceName', <class 'str'>, None, 0, 0, 0, True), ('DeviceMan', <class 'str'>, None, 0, 0, 0, True), ('DeviceOS', <class 'str'>, None, 0, 0, 0, True), ('DeviceOSVer', <class 'str'>, None, 0, 0, 0, True), ('AppVersion', <class 'str'>, None, 0, 0, 0, True), ('UserID', <class 'str'>, None, 128, 128, 0, True), ('UserProfileID', <class 'str'>, None, 128, 128, 0, True), ('Version', <class 'bytearray'>, None, 8, 8, 0, False), ('CreatedAt', <class 'bytearray'>, None, 34, 34, 7, False), ('UpdatedAt', <class 'bytearray'>, None, 34, 34, 7, True), ('Deleted', <class 'bool'>, None, 1, 1, 0, False), ('DeviceSerial', <class 'str'>, None, 0, 0, 0, True), ('DeviceIsVirtual', <class 'bool'>, None, 1, 1, 0, False), ('DeviceUDID', <class 'str'>, None, 0, 0, 0, True), ('OtherID1', <class 'str'>, None, 0, 0, 0, True), ('OtherID1Previous', <class 'str'>, None, 0, 0, 0, True), ('SimDeviceId', <class 'str'>, None, 0, 0, 0, True))\n"
     ]
    }
   ],
   "source": [
    "connection = get_connection('users')\n",
    "cursor = connection.cursor()\n",
    "sql = '''select top 10 * from FGAUserDevices'''\n",
    "cursor.execute(sql)\n",
    "print('cursor.description:', cursor.description)\n",
    "# print(cursor.description[10])\n",
    "# x = cursor.description[10]"
   ]
  },
  {
   "cell_type": "code",
   "execution_count": 8,
   "metadata": {
    "collapsed": true
   },
   "outputs": [],
   "source": [
    "# x[1]"
   ]
  },
  {
   "cell_type": "code",
   "execution_count": 9,
   "metadata": {
    "collapsed": true
   },
   "outputs": [],
   "source": [
    "# bytearray"
   ]
  },
  {
   "cell_type": "code",
   "execution_count": 32,
   "metadata": {},
   "outputs": [
    {
     "data": {
      "text/html": [
       "<div>\n",
       "<style scoped>\n",
       "    .dataframe tbody tr th:only-of-type {\n",
       "        vertical-align: middle;\n",
       "    }\n",
       "\n",
       "    .dataframe tbody tr th {\n",
       "        vertical-align: top;\n",
       "    }\n",
       "\n",
       "    .dataframe thead th {\n",
       "        text-align: right;\n",
       "    }\n",
       "</style>\n",
       "<table border=\"1\" class=\"dataframe\">\n",
       "  <thead>\n",
       "    <tr style=\"text-align: right;\">\n",
       "      <th></th>\n",
       "      <th>Id</th>\n",
       "      <th>DeviceId</th>\n",
       "      <th>DeviceName</th>\n",
       "      <th>DeviceMan</th>\n",
       "      <th>DeviceOS</th>\n",
       "      <th>DeviceOSVer</th>\n",
       "      <th>AppVersion</th>\n",
       "      <th>UserID</th>\n",
       "      <th>UserProfileID</th>\n",
       "      <th>Version</th>\n",
       "      <th>Deleted</th>\n",
       "      <th>DeviceSerial</th>\n",
       "      <th>DeviceIsVirtual</th>\n",
       "      <th>DeviceUDID</th>\n",
       "      <th>OtherID1</th>\n",
       "      <th>OtherID1Previous</th>\n",
       "      <th>SimDeviceId</th>\n",
       "    </tr>\n",
       "  </thead>\n",
       "  <tbody>\n",
       "    <tr>\n",
       "      <th>0</th>\n",
       "      <td>5FFC68A4-B539-4652-85FD-C062F96B2F6C</td>\n",
       "      <td>6daac5cb0706b620</td>\n",
       "      <td>Gemini Pro</td>\n",
       "      <td>Ulefone</td>\n",
       "      <td>Android</td>\n",
       "      <td>7.1.1</td>\n",
       "      <td>WEB_BROWSERx</td>\n",
       "      <td>D038FF0A-7930-44D9-9B90-3B1D4B01B653</td>\n",
       "      <td>EDFFC601-0C87-40B4-9AB0-A55B4D654AAE</td>\n",
       "      <td>b'\\x00\\x00\\x00\\x00\\x00u\\x1e\\xc2'</td>\n",
       "      <td>False</td>\n",
       "      <td>None</td>\n",
       "      <td>False</td>\n",
       "      <td>unknown</td>\n",
       "      <td>b65b676bc8d3e1e383704e97e7d812d1</td>\n",
       "      <td>b65b676bc8d3e1e383704e97e7d812d1</td>\n",
       "      <td>unknown</td>\n",
       "    </tr>\n",
       "    <tr>\n",
       "      <th>1</th>\n",
       "      <td>07E923A7-2F91-4F27-931B-675162C31881</td>\n",
       "      <td>a907b79f3bc2d8b8</td>\n",
       "      <td>Nexus 5X</td>\n",
       "      <td>LGE</td>\n",
       "      <td>Android</td>\n",
       "      <td>8.1.0</td>\n",
       "      <td>0.9.1</td>\n",
       "      <td>3876B0EB-D7AB-4FF0-B2C6-3071EE7E3185</td>\n",
       "      <td>35842A1B-C1C8-4A6D-8077-8D5AB72D84F3</td>\n",
       "      <td>b'\\x00\\x00\\x00\\x00\\x00\\x00T1'</td>\n",
       "      <td>False</td>\n",
       "      <td>None</td>\n",
       "      <td>False</td>\n",
       "      <td>None</td>\n",
       "      <td>None</td>\n",
       "      <td>None</td>\n",
       "      <td>None</td>\n",
       "    </tr>\n",
       "    <tr>\n",
       "      <th>2</th>\n",
       "      <td>E44CF7F4-FF2C-4AE3-BCAA-FF0ECC51AB74</td>\n",
       "      <td>000000000000000011</td>\n",
       "      <td>SM-G920F</td>\n",
       "      <td>samsung</td>\n",
       "      <td>Android</td>\n",
       "      <td>7.0</td>\n",
       "      <td>0.9.1</td>\n",
       "      <td>431B96BA-33C0-4CE0-AE52-83426516F4BB</td>\n",
       "      <td>F03CE291-1AD2-42EE-9070-C38BB2A91C03</td>\n",
       "      <td>b'\\x00\\x00\\x00\\x00\\x00qN\\xe9'</td>\n",
       "      <td>False</td>\n",
       "      <td>None</td>\n",
       "      <td>False</td>\n",
       "      <td>None</td>\n",
       "      <td>None</td>\n",
       "      <td>None</td>\n",
       "      <td>None</td>\n",
       "    </tr>\n",
       "    <tr>\n",
       "      <th>3</th>\n",
       "      <td>B81614A3-1102-4DA8-B57F-341BBCFE7CE3</td>\n",
       "      <td>42ac18025c7c4b85</td>\n",
       "      <td>A0001</td>\n",
       "      <td>OnePlus</td>\n",
       "      <td>Android</td>\n",
       "      <td>6.0.1</td>\n",
       "      <td>0.9.1</td>\n",
       "      <td>A7E162D3-6983-45CB-898D-A97CF86D4053</td>\n",
       "      <td>CB492FB3-168F-47BD-BC7A-1A4DE6366C96</td>\n",
       "      <td>b'\\x00\\x00\\x00\\x00\\x00\\x00Vv'</td>\n",
       "      <td>False</td>\n",
       "      <td>None</td>\n",
       "      <td>False</td>\n",
       "      <td>None</td>\n",
       "      <td>None</td>\n",
       "      <td>None</td>\n",
       "      <td>None</td>\n",
       "    </tr>\n",
       "    <tr>\n",
       "      <th>4</th>\n",
       "      <td>1F81EEDF-D6FA-400D-B280-65498E2D1E9F</td>\n",
       "      <td>1bb88d070b2f3e90</td>\n",
       "      <td>WAS-LX1A</td>\n",
       "      <td>HUAWEI</td>\n",
       "      <td>Android</td>\n",
       "      <td>7.0</td>\n",
       "      <td>0.9.1</td>\n",
       "      <td>70BC4E78-C564-450D-BD2B-F4FC27B4DE06</td>\n",
       "      <td>CE563208-2F79-48E4-9DED-F158BC85FB51</td>\n",
       "      <td>b'\\x00\\x00\\x00\\x00\\x00\\x00V\\xa6'</td>\n",
       "      <td>False</td>\n",
       "      <td>None</td>\n",
       "      <td>False</td>\n",
       "      <td>None</td>\n",
       "      <td>None</td>\n",
       "      <td>None</td>\n",
       "      <td>None</td>\n",
       "    </tr>\n",
       "  </tbody>\n",
       "</table>\n",
       "</div>"
      ],
      "text/plain": [
       "                                     Id            DeviceId  DeviceName  \\\n",
       "0  5FFC68A4-B539-4652-85FD-C062F96B2F6C    6daac5cb0706b620  Gemini Pro   \n",
       "1  07E923A7-2F91-4F27-931B-675162C31881    a907b79f3bc2d8b8    Nexus 5X   \n",
       "2  E44CF7F4-FF2C-4AE3-BCAA-FF0ECC51AB74  000000000000000011    SM-G920F   \n",
       "3  B81614A3-1102-4DA8-B57F-341BBCFE7CE3    42ac18025c7c4b85       A0001   \n",
       "4  1F81EEDF-D6FA-400D-B280-65498E2D1E9F    1bb88d070b2f3e90    WAS-LX1A   \n",
       "\n",
       "  DeviceMan DeviceOS DeviceOSVer    AppVersion  \\\n",
       "0   Ulefone  Android       7.1.1  WEB_BROWSERx   \n",
       "1       LGE  Android       8.1.0         0.9.1   \n",
       "2   samsung  Android         7.0         0.9.1   \n",
       "3   OnePlus  Android       6.0.1         0.9.1   \n",
       "4    HUAWEI  Android         7.0         0.9.1   \n",
       "\n",
       "                                 UserID                         UserProfileID  \\\n",
       "0  D038FF0A-7930-44D9-9B90-3B1D4B01B653  EDFFC601-0C87-40B4-9AB0-A55B4D654AAE   \n",
       "1  3876B0EB-D7AB-4FF0-B2C6-3071EE7E3185  35842A1B-C1C8-4A6D-8077-8D5AB72D84F3   \n",
       "2  431B96BA-33C0-4CE0-AE52-83426516F4BB  F03CE291-1AD2-42EE-9070-C38BB2A91C03   \n",
       "3  A7E162D3-6983-45CB-898D-A97CF86D4053  CB492FB3-168F-47BD-BC7A-1A4DE6366C96   \n",
       "4  70BC4E78-C564-450D-BD2B-F4FC27B4DE06  CE563208-2F79-48E4-9DED-F158BC85FB51   \n",
       "\n",
       "                            Version  Deleted DeviceSerial  DeviceIsVirtual  \\\n",
       "0  b'\\x00\\x00\\x00\\x00\\x00u\\x1e\\xc2'    False         None            False   \n",
       "1     b'\\x00\\x00\\x00\\x00\\x00\\x00T1'    False         None            False   \n",
       "2     b'\\x00\\x00\\x00\\x00\\x00qN\\xe9'    False         None            False   \n",
       "3     b'\\x00\\x00\\x00\\x00\\x00\\x00Vv'    False         None            False   \n",
       "4  b'\\x00\\x00\\x00\\x00\\x00\\x00V\\xa6'    False         None            False   \n",
       "\n",
       "  DeviceUDID                          OtherID1  \\\n",
       "0    unknown  b65b676bc8d3e1e383704e97e7d812d1   \n",
       "1       None                              None   \n",
       "2       None                              None   \n",
       "3       None                              None   \n",
       "4       None                              None   \n",
       "\n",
       "                   OtherID1Previous SimDeviceId  \n",
       "0  b65b676bc8d3e1e383704e97e7d812d1     unknown  \n",
       "1                              None        None  \n",
       "2                              None        None  \n",
       "3                              None        None  \n",
       "4                              None        None  "
      ]
     },
     "execution_count": 32,
     "metadata": {},
     "output_type": "execute_result"
    }
   ],
   "source": [
    "connection = get_connection('users')\n",
    "sql = '''\n",
    "select top 10 \n",
    "    Id, \n",
    "    DeviceId, \n",
    "    DeviceName, \n",
    "    DeviceMan, \n",
    "    DeviceOS, \n",
    "    DeviceOSVer, \n",
    "    AppVersion, \n",
    "    UserID, \n",
    "    UserProfileID,\n",
    "    Version,\n",
    "    --CreatedAt,\n",
    "    --UpdatedAt,\n",
    "    Deleted,\n",
    "    DeviceSerial,\n",
    "    DeviceIsVirtual,\n",
    "    DeviceUDID,\n",
    "    OtherID1,\n",
    "    OtherID1Previous,\n",
    "    SimDeviceId\n",
    "    \n",
    "from FGAUserDevices\n",
    "'''\n",
    "df = query_database(connection, sql)\n",
    "df.head()"
   ]
  },
  {
   "cell_type": "code",
   "execution_count": 11,
   "metadata": {
    "collapsed": true
   },
   "outputs": [],
   "source": [
    "# connection = get_connection('users')\n",
    "# cursor = connection.cursor()\n",
    "# table_name = 'FGAUserDevices'\n",
    "# sql = '''\n",
    "# SELECT \n",
    "#     c.name 'Column Name',\n",
    "#     t.Name 'Data type',\n",
    "#     c.max_length 'Max Length',\n",
    "#     c.precision ,\n",
    "#     c.scale ,\n",
    "#     c.is_nullable,\n",
    "#     ISNULL(i.is_primary_key, 0) 'Primary Key'\n",
    "# FROM    \n",
    "#     sys.columns c\n",
    "# INNER JOIN \n",
    "#     sys.types t ON c.user_type_id = t.user_type_id\n",
    "# LEFT OUTER JOIN \n",
    "#     sys.index_columns ic ON ic.object_id = c.object_id AND ic.column_id = c.column_id\n",
    "# LEFT OUTER JOIN \n",
    "#     sys.indexes i ON ic.object_id = i.object_id AND ic.index_id = i.index_id\n",
    "# WHERE\n",
    "#     c.object_id = OBJECT_ID('{}')\n",
    "# '''.format(table_name)\n",
    "# cursor.execute(sql)\n",
    "# rows = cursor.fetchall()\n",
    "# print('rows:', rows)"
   ]
  },
  {
   "cell_type": "markdown",
   "metadata": {},
   "source": [
    "## logs"
   ]
  },
  {
   "cell_type": "code",
   "execution_count": 8,
   "metadata": {},
   "outputs": [
    {
     "name": "stdout",
     "output_type": "stream",
     "text": [
      "33 tables\n"
     ]
    },
    {
     "data": {
      "text/html": [
       "<div>\n",
       "<style scoped>\n",
       "    .dataframe tbody tr th:only-of-type {\n",
       "        vertical-align: middle;\n",
       "    }\n",
       "\n",
       "    .dataframe tbody tr th {\n",
       "        vertical-align: top;\n",
       "    }\n",
       "\n",
       "    .dataframe thead th {\n",
       "        text-align: right;\n",
       "    }\n",
       "</style>\n",
       "<table border=\"1\" class=\"dataframe\">\n",
       "  <thead>\n",
       "    <tr style=\"text-align: right;\">\n",
       "      <th></th>\n",
       "      <th>name</th>\n",
       "    </tr>\n",
       "  </thead>\n",
       "  <tbody>\n",
       "    <tr>\n",
       "      <th>13</th>\n",
       "      <td>AWBDBU</td>\n",
       "    </tr>\n",
       "    <tr>\n",
       "      <th>15</th>\n",
       "      <td>AppConfig</td>\n",
       "    </tr>\n",
       "    <tr>\n",
       "      <th>21</th>\n",
       "      <td>AspNetRoles</td>\n",
       "    </tr>\n",
       "    <tr>\n",
       "      <th>25</th>\n",
       "      <td>AspNetUserClaims</td>\n",
       "    </tr>\n",
       "    <tr>\n",
       "      <th>27</th>\n",
       "      <td>AspNetUserLogins</td>\n",
       "    </tr>\n",
       "  </tbody>\n",
       "</table>\n",
       "</div>"
      ],
      "text/plain": [
       "                name\n",
       "13            AWBDBU\n",
       "15         AppConfig\n",
       "21       AspNetRoles\n",
       "25  AspNetUserClaims\n",
       "27  AspNetUserLogins"
      ]
     },
     "execution_count": 8,
     "metadata": {},
     "output_type": "execute_result"
    }
   ],
   "source": [
    "logs_connection = get_connection('logs')\n",
    "df_logs_tables = get_table_names(logs_connection)\n",
    "print('{} tables'.format(len(df_logs_tables)))\n",
    "df_logs_tables.head()"
   ]
  },
  {
   "cell_type": "markdown",
   "metadata": {},
   "source": [
    "## quiz_games"
   ]
  },
  {
   "cell_type": "code",
   "execution_count": 9,
   "metadata": {},
   "outputs": [
    {
     "name": "stdout",
     "output_type": "stream",
     "text": [
      "99 tables\n"
     ]
    },
    {
     "data": {
      "text/html": [
       "<div>\n",
       "<style scoped>\n",
       "    .dataframe tbody tr th:only-of-type {\n",
       "        vertical-align: middle;\n",
       "    }\n",
       "\n",
       "    .dataframe tbody tr th {\n",
       "        vertical-align: top;\n",
       "    }\n",
       "\n",
       "    .dataframe thead th {\n",
       "        text-align: right;\n",
       "    }\n",
       "</style>\n",
       "<table border=\"1\" class=\"dataframe\">\n",
       "  <thead>\n",
       "    <tr style=\"text-align: right;\">\n",
       "      <th></th>\n",
       "      <th>name</th>\n",
       "    </tr>\n",
       "  </thead>\n",
       "  <tbody>\n",
       "    <tr>\n",
       "      <th>5</th>\n",
       "      <td>AggregatedCounter</td>\n",
       "    </tr>\n",
       "    <tr>\n",
       "      <th>35</th>\n",
       "      <td>AllLogAppEvent</td>\n",
       "    </tr>\n",
       "    <tr>\n",
       "      <th>91</th>\n",
       "      <td>Cities</td>\n",
       "    </tr>\n",
       "    <tr>\n",
       "      <th>22</th>\n",
       "      <td>CompetitionsManual</td>\n",
       "    </tr>\n",
       "    <tr>\n",
       "      <th>45</th>\n",
       "      <td>CorrectAnswersToFanCoinMapping</td>\n",
       "    </tr>\n",
       "  </tbody>\n",
       "</table>\n",
       "</div>"
      ],
      "text/plain": [
       "                              name\n",
       "5                AggregatedCounter\n",
       "35                  AllLogAppEvent\n",
       "91                          Cities\n",
       "22              CompetitionsManual\n",
       "45  CorrectAnswersToFanCoinMapping"
      ]
     },
     "execution_count": 9,
     "metadata": {},
     "output_type": "execute_result"
    }
   ],
   "source": [
    "quiz_games_connection = get_connection('quiz_games')\n",
    "df_quiz_games_tables = get_table_names(quiz_games_connection)\n",
    "print('{} tables'.format(len(df_quiz_games_tables)))\n",
    "df_quiz_games_tables.head()"
   ]
  },
  {
   "cell_type": "code",
   "execution_count": null,
   "metadata": {
    "collapsed": true
   },
   "outputs": [],
   "source": []
  }
 ],
 "metadata": {
  "kernelspec": {
   "display_name": "Python 3",
   "language": "python",
   "name": "python3"
  },
  "language_info": {
   "codemirror_mode": {
    "name": "ipython",
    "version": 3
   },
   "file_extension": ".py",
   "mimetype": "text/x-python",
   "name": "python",
   "nbconvert_exporter": "python",
   "pygments_lexer": "ipython3",
   "version": "3.6.3"
  }
 },
 "nbformat": 4,
 "nbformat_minor": 2
}
